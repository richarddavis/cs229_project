{
 "cells": [
  {
   "cell_type": "markdown",
   "metadata": {},
   "source": [
    "## Steps for Format Data\n",
    "\n",
    "1. Split data on SID\n",
    "1. For each student, order questions by time\n",
    "1. For each student, split questions by concept\n",
    "1. Convert into a sequence of 1's and 0's\n",
    "1. Combine all concept sequences for all sequences\n",
    "\n"
   ]
  },
  {
   "cell_type": "code",
   "execution_count": 1,
   "metadata": {
    "collapsed": false
   },
   "outputs": [],
   "source": [
    "import pandas as pd\n",
    "import numpy as np\n",
    "import csv\n",
    "import scipy.io as sio"
   ]
  },
  {
   "cell_type": "code",
   "execution_count": 2,
   "metadata": {
    "collapsed": false
   },
   "outputs": [],
   "source": [
    "# Some rows of KDD data contain multiple concepts. Split these into multiple rows, one per concept.\n",
    "# Additionally, remove unlabeled rows (rows with no labeled concept).\n",
    "\n",
    "infile_path = \"/Volumes/Slim2TB/classes/cs229/project/data/KDD Cup/kddcup_challenge/bridge_to_algebra_2008_2009_train.txt\"\n",
    "outfile_path = \"/Volumes/Slim2TB/classes/cs229/project/data/KDD Cup/kddcup_challenge/bridge_to_algebra_2008_2009_train_clean.txt\"\n",
    "\n",
    "with open(infile_path,'r') as infile, open(outfile_path, 'w') as outfile:\n",
    "    csvreader = csv.reader(infile, dialect=\"excel-tab\")\n",
    "    csvwriter = csv.writer(outfile, dialect = \"excel-tab\")\n",
    "    for row in csvreader:\n",
    "        if not row[19]:\n",
    "            continue\n",
    "        # Write one row per concept in 'kc_ktracedskills' column 19\n",
    "        concepts = row[19].split('~~')\n",
    "        opportunities = row[20].split('~~')\n",
    "        for c, o in zip(concepts, opportunities):\n",
    "            temprow = row\n",
    "            temprow[19] = c\n",
    "            temprow[20] = o\n",
    "            csvwriter.writerow(temprow)"
   ]
  },
  {
   "cell_type": "code",
   "execution_count": 3,
   "metadata": {
    "collapsed": false
   },
   "outputs": [],
   "source": [
    "# Create a Dictionary Linking Student ID to Number of Questions and Concept ID to Number of Questions\n",
    "\n",
    "def get_kdd_info(file_path):\n",
    "    info = dict()\n",
    "    student_count = dict()\n",
    "    concept_count = dict()\n",
    "    with open(file_path,'r') as data_file:\n",
    "        csvreader = csv.reader(data_file, dialect=\"excel-tab\")\n",
    "        for row in csvreader:\n",
    "            studentid = row[1]\n",
    "            conceptid = row[19]\n",
    "            if studentid not in student_count:\n",
    "                student_count[studentid] = 1\n",
    "            else:\n",
    "                student_count[studentid] += 1\n",
    "            if conceptid not in concept_count:\n",
    "                concept_count[conceptid] = 1\n",
    "            else:\n",
    "                concept_count[conceptid] += 1\n",
    "    info['student_count'] = student_count\n",
    "    info['concept_count'] = concept_count\n",
    "    return info\n",
    "\n",
    "#file_path = \"/Users/qandeeltariq/Desktop/kddcup_challenge/bridge_to_algebra_2008_2009_train.txt\"\n",
    "file_path = \"/Volumes/Slim2TB/classes/cs229/project/data/KDD Cup/kddcup_challenge/bridge_to_algebra_2008_2009_train_clean.txt\"\n",
    "\n",
    "kdd_info = get_kdd_info(file_path)\n",
    "print kdd_info['concept_count']\n",
    "print kdd_info['student_count']"
   ]
  },
  {
   "cell_type": "code",
   "execution_count": 6,
   "metadata": {
    "collapsed": false
   },
   "outputs": [
    {
     "name": "stdout",
     "output_type": "stream",
     "text": [
      "In the cleaned data there are 808 concepts and 5986 students.\n"
     ]
    }
   ],
   "source": [
    "print \"In the cleaned data there are %d concepts and %d students.\" % (len(kdd_info['concept_count']), len(kdd_info['student_count']))"
   ]
  },
  {
   "cell_type": "code",
   "execution_count": 6,
   "metadata": {
    "collapsed": false
   },
   "outputs": [],
   "source": [
    "# Subsetting the data to 50 random students\n",
    "def get_random_sample(kdd_info, sample_size):\n",
    "    sid_list = []\n",
    "    for sid, numqs in kdd_info['student_count'].iteritems():\n",
    "        sid_list.append(sid)\n",
    "\n",
    "    return np.random.choice(sid_list, sample_size, replace=False)\n",
    "    \n",
    "#random_students = get_random_sample(student_ids, 50)"
   ]
  },
  {
   "cell_type": "code",
   "execution_count": 7,
   "metadata": {
    "collapsed": false
   },
   "outputs": [],
   "source": [
    "def get_top_n_concepts(concept_dict, n, clean=True, top=True):\n",
    "    c = concept_dict\n",
    "    if top:\n",
    "        s = sorted(c, key=c.get, reverse=True)\n",
    "    else:\n",
    "        s = sorted(c, key=c.get, reverse=False)\n",
    "    #s = sorted(c.items(), key=lambda x:x[1], reverse=True)\n",
    "    top_items = []\n",
    "    for entry in s:\n",
    "        if clean:\n",
    "            if 'enter' in entry.lower() or not entry:\n",
    "                continue\n",
    "        top_items.append(entry)\n",
    "        if len(top_items) >= n:\n",
    "            break\n",
    "    return top_items\n",
    "    \n",
    "n_concepts = get_top_n_concepts(kdd_info['concept_count'], 100, clean=False, top=True)"
   ]
  },
  {
   "cell_type": "code",
   "execution_count": 9,
   "metadata": {
    "collapsed": false
   },
   "outputs": [
    {
     "data": {
      "text/plain": [
       "array(['Identify number as common multiple-1',\n",
       "       'Identify number as common factor-1',\n",
       "       'Compare Options - operation-1',\n",
       "       'Identify percent change as increase or decrease-1',\n",
       "       'Identify common denominator-1',\n",
       "       'Enter smaller initial in diagram -- given-1',\n",
       "       'Identify no more factors-1', 'Enter items numerator-1',\n",
       "       'Identify proper from option 2-1',\n",
       "       'Calculate difference digit -- borrow in-1'], \n",
       "      dtype='|S60')"
      ]
     },
     "execution_count": 9,
     "metadata": {},
     "output_type": "execute_result"
    }
   ],
   "source": [
    "def choose_random_concepts(concept_list, sample_size):\n",
    "    return np.random.choice(concept_list, sample_size, replace=False)\n",
    "\n",
    "random_concepts = choose_random_concepts(n_concepts, 10)"
   ]
  },
  {
   "cell_type": "code",
   "execution_count": 10,
   "metadata": {
    "collapsed": false
   },
   "outputs": [
    {
     "name": "stdout",
     "output_type": "stream",
     "text": [
      "12536294\n",
      "993661\n"
     ]
    }
   ],
   "source": [
    "# Make a modified subset of the KDD Cup data file that has data from our random sample of students.\n",
    "# This is tailored for the KDD Cup data; we will have to modify this when using other data sources.\n",
    "# The CSV file is nearly identical to input file, with two changes:\n",
    "# 1. Some questions are assigned multiple concepts; we split these into one row per concept\n",
    "# 2. We only keep data from a random sample of students\n",
    "\n",
    "infile_path = \"/Volumes/Slim2TB/classes/cs229/project/data/KDD Cup/kddcup_challenge/bridge_to_algebra_2008_2009_train_clean.txt\"\n",
    "subset_path = \"/Volumes/Slim2TB/classes/cs229/project/data/KDD Cup/kddcup_challenge/bridge_to_algebra_2008_2009_train_nConcepts.txt\"\n",
    "\n",
    "total_rows = 0\n",
    "written_rows = 0\n",
    "with open(infile_path,'r') as infile, open(subset_path, 'w') as outfile:\n",
    "    csvreader = csv.reader(infile, dialect=\"excel-tab\")\n",
    "    csvwriter = csv.writer(outfile, dialect = \"excel-tab\")\n",
    "    for row in csvreader:\n",
    "        concept_id = row[19]\n",
    "        total_rows += 1\n",
    "        if concept_id not in random_concepts:\n",
    "        #if concept_id not in top_concepts:\n",
    "            continue\n",
    "        csvwriter.writerow(row)\n",
    "        written_rows += 1\n",
    "        \n",
    "print \"Wrote %d rows out of %d total rows.\" % (written_rows, total_rows)\n",
    "\n",
    "n_concept_info = get_kdd_info(subset_path)\n",
    "print \"In the subsetted data there are %d concepts and %d students.\" % (len(n_concept_info['concept_count']), len(n_concept_info['student_count']))"
   ]
  },
  {
   "cell_type": "code",
   "execution_count": 11,
   "metadata": {
    "collapsed": false
   },
   "outputs": [
    {
     "name": "stdout",
     "output_type": "stream",
     "text": [
      "In the subsetted data there are 10 concepts and 4938 students.\n"
     ]
    }
   ],
   "source": [
    "n_concepts_path = \"/Volumes/Slim2TB/classes/cs229/project/data/KDD Cup/kddcup_challenge/bridge_to_algebra_2008_2009_train_nConcepts.txt\"\n"
   ]
  },
  {
   "cell_type": "code",
   "execution_count": 13,
   "metadata": {
    "collapsed": false
   },
   "outputs": [],
   "source": [
    "# Write data to two matrices\n",
    "\n",
    "def convert_to_matrices(csvfile, min_seq_length):\n",
    "    kdd_col_names = ['row','student_id','problem_hierarchy', 'problem_name', 'problem_view','step_name','step_start_time','first_transaction_time','correct_transaction_time','step_end_time', 'step_duration','correct_step_duration', 'error_step_duration','correct_first_attempt', 'incorrects', 'hints', 'corrects', 'kc_subskills', 'opportunity_subskills', 'kc_ktracedskills', 'opportunity_ktracedskills']\n",
    "    pd_allstudents = pd.read_csv(csvfile, sep='\\t', names=kdd_col_names, parse_dates=[6,7,8,9], infer_datetime_format=True)\n",
    "    pd_allstudents = pd_allstudents.sort_values('step_start_time') # Sort by datetime\n",
    "    \n",
    "    grouped_by_student = pd_allstudents.groupby(['student_id'])\n",
    "    \n",
    "    max_seq_len = 0\n",
    "    for name,group in grouped_by_student:\n",
    "        # name is student_id, group is that student's data\n",
    "        if group.shape[0] > max_seq_len:\n",
    "            max_seq_len = group.shape[0]\n",
    "    \n",
    "    concept_to_id = {}\n",
    "    id_to_concept = {}\n",
    "    concepts = set(pd_allstudents['kc_ktracedskills'])\n",
    "    i = 1\n",
    "    for c in concepts:\n",
    "        concept_to_id[c] = i\n",
    "        id_to_concept[i] = c\n",
    "        i += 1\n",
    "    #print concept_to_id\n",
    "    #print id_to_concept\n",
    "    \n",
    "    student_to_id = {}\n",
    "    id_to_student = {}\n",
    "    students = set(pd_allstudents['student_id'])\n",
    "    i = 0\n",
    "    for s in students:\n",
    "        student_to_id[s] = i\n",
    "        id_to_student[i] = s\n",
    "        i += 1    \n",
    "    #print student_to_id\n",
    "    #print id_to_student\n",
    "    \n",
    "    answer_matrix = np.zeros([len(grouped_by_student), max_seq_len])\n",
    "    concept_matrix = np.zeros([len(grouped_by_student), max_seq_len])   \n",
    "    \n",
    "    for name, group in grouped_by_student:\n",
    "        \n",
    "        # Drop concepts where student answered fewer than min_seq_length questions\n",
    "        cs_per_student = group['kc_ktracedskills'].value_counts()\n",
    "        \n",
    "        # Find students whose number of questions answered is below answer_threshold\n",
    "        to_keep = []\n",
    "        for k,v in cs_per_student.iteritems():\n",
    "            if v >= min_seq_length:\n",
    "                to_keep.append(k)\n",
    "\n",
    "        group = group[group.kc_ktracedskills.isin(to_keep)]\n",
    "        \n",
    "        outrow = student_to_id[name]\n",
    "        i = 0\n",
    "        for index, row in group.iterrows():\n",
    "            concept = row['kc_ktracedskills']\n",
    "            concept_id = concept_to_id[concept]\n",
    "            answer = row['correct_first_attempt'] + 1\n",
    "            answer_matrix[outrow, i] = answer\n",
    "            concept_matrix[outrow, i] = concept_id\n",
    "            i += 1\n",
    "    \n",
    "    return [answer_matrix, concept_matrix, concept_to_id, id_to_concept, student_to_id, id_to_student]\n",
    "    \n",
    "n_concepts_path = \"/Volumes/Slim2TB/classes/cs229/project/data/KDD Cup/kddcup_challenge/bridge_to_algebra_2008_2009_train_nConcepts.txt\"\n",
    "X, C, c_id, id_c, s_id, id_s = convert_to_matrices(n_concepts_path, 10)"
   ]
  },
  {
   "cell_type": "code",
   "execution_count": 14,
   "metadata": {
    "collapsed": false
   },
   "outputs": [
    {
     "name": "stdout",
     "output_type": "stream",
     "text": [
      "(4938, 1368)\n",
      "(4938, 1368)\n",
      "10\n",
      "10\n",
      "4938\n",
      "4938\n",
      "<type 'numpy.ndarray'>\n"
     ]
    }
   ],
   "source": [
    "print X.shape\n",
    "print C.shape\n",
    "print len(c_id)\n",
    "print len(id_c)\n",
    "print len(s_id)\n",
    "print len(id_s)\n",
    "print type(X)\n",
    "sio.savemat('KDD.mat', {'KDD_X':X, 'KDD_C':C})"
   ]
  },
  {
   "cell_type": "code",
   "execution_count": 22,
   "metadata": {
    "collapsed": false
   },
   "outputs": [],
   "source": [
    "# Combine sequences of ansewrs as 1's and 0's by concept, where all students'\n",
    "# answers are in a list of lists\n",
    "\n",
    "from collections import defaultdict\n",
    "final_dict = defaultdict(dict)\n",
    "for student, answers in list_alldata.iteritems():\n",
    "    for concept, sequence in answers.iteritems():\n",
    "        # Clean concept names so matlab can read them\n",
    "        new_concept = concept.replace(' ', '_')\n",
    "        new_concept = new_concept.lower()\n",
    "        new_concept = \"\".join([ c if c.isalnum() else \"_\" for c in new_concept ])        \n",
    "        final_dict[new_concept][student] = sequence\n",
    "        \n",
    "#sio.savemat('../matlab/final_dict.mat', final_dict)"
   ]
  }
 ],
 "metadata": {
  "kernelspec": {
   "display_name": "Python 2",
   "language": "python",
   "name": "python2"
  },
  "language_info": {
   "codemirror_mode": {
    "name": "ipython",
    "version": 2
   },
   "file_extension": ".py",
   "mimetype": "text/x-python",
   "name": "python",
   "nbconvert_exporter": "python",
   "pygments_lexer": "ipython2",
   "version": "2.7.10"
  }
 },
 "nbformat": 4,
 "nbformat_minor": 1
}
