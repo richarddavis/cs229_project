{
 "cells": [
  {
   "cell_type": "code",
   "execution_count": 19,
   "metadata": {
    "collapsed": true
   },
   "outputs": [],
   "source": [
    "import pandas as pd\n",
    "import numpy as np\n",
    "import csv\n",
    "import scipy.io as sio\n",
    "import pprint\n",
    "import sklearn\n",
    "from sklearn.cluster import KMeans"
   ]
  },
  {
   "cell_type": "code",
   "execution_count": 21,
   "metadata": {
    "collapsed": false
   },
   "outputs": [
    {
     "data": {
      "text/plain": [
       "array([0, 1, 0, 0, 0, 0, 0, 0, 0, 0, 1, 0, 0, 0, 0, 0, 0, 0, 0, 0, 0, 0, 0,\n",
       "       0, 0, 0, 0, 0, 0, 0, 0, 0, 0, 0, 0, 0, 0, 1, 0], dtype=int32)"
      ]
     },
     "execution_count": 21,
     "metadata": {},
     "output_type": "execute_result"
    }
   ],
   "source": [
    "#Create a dict with each row representing student, and each column representing concept\n",
    "#step 1: check total number of concepts\n",
    "#step 2: create empty dict for all students and all concepts\n",
    "#step 3: populate it with sid\n",
    "#step 3, for each sid, check whether the concept was seen or not, \n",
    "# add one more dimension which is 1 or 0 whther the student got it right in the first attempt or not\n",
    "\n",
    "file_path = \"/Users/qandeeltariq/Dropbox/CS229 Project/kddcup/cleaned_data.csv\"\n",
    "\n",
    "concepts = set()\n",
    "sids = set()\n",
    "with open(file_path, 'r') as f:\n",
    "    csvreader = csv.reader(f)\n",
    "    next(csvreader)\n",
    "    for row in csvreader:\n",
    "        c = row[19]\n",
    "        s = row[1]\n",
    "        concepts.add(c)\n",
    "        sids.add(s)\n",
    "\n",
    "sid_to_vector = {}\n",
    "with open(file_path, 'r') as f:\n",
    "    csvreader = csv.reader(f)\n",
    "    next(csvreader)\n",
    "    for row in csvreader:\n",
    "        c = row[19]\n",
    "        s = row[1]\n",
    "        if s in sid_to_vector:\n",
    "            v = sid_to_vector[s]\n",
    "            v[c] = 1\n",
    "        else:\n",
    "            # First time seeing the student\n",
    "            sid_to_vector[s] = {}\n",
    "            # Not sparse; switch to sparse later\n",
    "            for con in concepts:\n",
    "                sid_to_vector[s][con] = 0\n",
    "            sid_to_vector[s][c] = 1\n",
    "                \n",
    "#pprint.pprint(sid_to_vector)\n",
    "\n",
    "# Convert sid_to_vector to (1) a dict linking sid to position\n",
    "# and (2) a list of lists, where the list at position corresponds to sid\n",
    "\n",
    "i = 0\n",
    "concept_order = {}\n",
    "for c in concepts:\n",
    "    if c not in concept_order:\n",
    "        concept_order[c] = i\n",
    "    i += 1\n",
    "\n",
    "num_concepts = len(concepts)\n",
    "sid_to_index = {}\n",
    "vectors = []\n",
    "index = 0\n",
    "for sid, v in sid_to_vector.iteritems():\n",
    "    if sid not in sid_to_index:\n",
    "        sid_to_index[sid] = index\n",
    "        temp = np.zeros(num_concepts)        \n",
    "        for concept, flag in v.iteritems():\n",
    "            temp[concept_order[concept]] = flag\n",
    "        vectors.append(temp)\n",
    "    index += 1\n",
    "\n",
    "# See sklearn documentation on KMeans\n",
    "kmeans = KMeans(n_clusters=2, random_state=0).fit(vectors)\n",
    "\n",
    "# Next steps:\n",
    "# 1. Assign students to clusters\n",
    "# 2. Find each cluster mediod\n",
    "# 3. Assign new (test) students to clusters\n",
    "# 4. Do this with a lot more data"
   ]
  },
  {
   "cell_type": "code",
   "execution_count": 22,
   "metadata": {
    "collapsed": false
   },
   "outputs": [
    {
     "data": {
      "text/plain": [
       "[array([ 1.,  1.,  1.,  1.]),\n",
       " array([ 1.,  1.,  0.,  0.]),\n",
       " array([ 1.,  1.,  1.,  1.]),\n",
       " array([ 1.,  1.,  1.,  1.]),\n",
       " array([ 1.,  1.,  1.,  1.]),\n",
       " array([ 1.,  1.,  1.,  1.]),\n",
       " array([ 1.,  1.,  1.,  1.]),\n",
       " array([ 1.,  1.,  1.,  1.]),\n",
       " array([ 1.,  1.,  1.,  1.]),\n",
       " array([ 1.,  1.,  1.,  1.]),\n",
       " array([ 1.,  0.,  0.,  0.]),\n",
       " array([ 1.,  1.,  1.,  1.]),\n",
       " array([ 1.,  1.,  1.,  1.]),\n",
       " array([ 1.,  1.,  1.,  1.]),\n",
       " array([ 1.,  1.,  1.,  1.]),\n",
       " array([ 1.,  1.,  1.,  1.]),\n",
       " array([ 1.,  1.,  1.,  1.]),\n",
       " array([ 1.,  1.,  1.,  1.]),\n",
       " array([ 1.,  1.,  1.,  1.]),\n",
       " array([ 1.,  1.,  1.,  1.]),\n",
       " array([ 1.,  1.,  1.,  1.]),\n",
       " array([ 1.,  1.,  1.,  1.]),\n",
       " array([ 1.,  1.,  1.,  1.]),\n",
       " array([ 1.,  1.,  1.,  1.]),\n",
       " array([ 1.,  1.,  1.,  1.]),\n",
       " array([ 1.,  1.,  1.,  1.]),\n",
       " array([ 1.,  1.,  1.,  1.]),\n",
       " array([ 1.,  1.,  1.,  1.]),\n",
       " array([ 1.,  1.,  1.,  1.]),\n",
       " array([ 1.,  1.,  1.,  1.]),\n",
       " array([ 1.,  1.,  1.,  1.]),\n",
       " array([ 1.,  1.,  1.,  1.]),\n",
       " array([ 1.,  1.,  1.,  1.]),\n",
       " array([ 1.,  1.,  1.,  1.]),\n",
       " array([ 1.,  1.,  1.,  1.]),\n",
       " array([ 1.,  1.,  1.,  1.]),\n",
       " array([ 1.,  1.,  1.,  1.]),\n",
       " array([ 1.,  0.,  0.,  0.]),\n",
       " array([ 1.,  1.,  1.,  1.])]"
      ]
     },
     "execution_count": 22,
     "metadata": {},
     "output_type": "execute_result"
    }
   ],
   "source": [
    "kmeans.labels_\n",
    "vectors"
   ]
  }
 ],
 "metadata": {
  "kernelspec": {
   "display_name": "Python 2",
   "language": "python",
   "name": "python2"
  },
  "language_info": {
   "codemirror_mode": {
    "name": "ipython",
    "version": 2
   },
   "file_extension": ".py",
   "mimetype": "text/x-python",
   "name": "python",
   "nbconvert_exporter": "python",
   "pygments_lexer": "ipython2",
   "version": "2.7.10"
  }
 },
 "nbformat": 4,
 "nbformat_minor": 1
}
