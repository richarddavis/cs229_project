{
 "cells": [
  {
   "cell_type": "markdown",
   "metadata": {},
   "source": [
    "## Steps for Format Data\n",
    "\n",
    "1. Split data on SID\n",
    "1. For each student, order questions by time\n",
    "1. For each student, split questions by concept\n",
    "1. Convert into a sequence of 1's and 0's\n",
    "1. Combine all concept sequences for all sequences\n",
    "\n"
   ]
  },
  {
   "cell_type": "code",
   "execution_count": 61,
   "metadata": {
    "collapsed": false
   },
   "outputs": [],
   "source": [
    "import pandas as pd\n",
    "import numpy as np\n",
    "import csv\n",
    "import scipy.io as sio"
   ]
  },
  {
   "cell_type": "code",
   "execution_count": 62,
   "metadata": {
    "collapsed": false
   },
   "outputs": [
    {
     "name": "stdout",
     "output_type": "stream",
     "text": [
      "6044\n"
     ]
    }
   ],
   "source": [
    "# Create a Dictionary Linking Student ID to Number of Questions\n",
    "\n",
    "def create_student_dict(data_file):\n",
    "    student_ids = dict()\n",
    "    with open(file_path,'r') as data_file:\n",
    "        csvreader = csv.reader(data_file, dialect=\"excel-tab\")\n",
    "        for row in csvreader:\n",
    "            studentid = row[1]\n",
    "            if studentid not in student_ids:\n",
    "                student_ids[studentid] = 1\n",
    "            else:\n",
    "                student_ids[studentid] += 1\n",
    "    return student_ids\n",
    "\n",
    "file_path = \"/Users/qandeeltariq/Desktop/kddcup_challenge/bridge_to_algebra_2008_2009_train.txt\"\n",
    "# file_path = \"/Volumes/Slim2TB/classes/cs229/project/data/KDD Cup/kddcup_challenge/bridge_to_algebra_2008_2009_train.txt\"\n",
    "\n",
    "student_ids = create_student_dict(file_path)\n",
    "print len(student_ids)"
   ]
  },
  {
   "cell_type": "code",
   "execution_count": 63,
   "metadata": {
    "collapsed": false
   },
   "outputs": [],
   "source": [
    "# Subsetting the data to 50 random students\n",
    "def get_random_sample(student_ids, sample_size):\n",
    "    sid_list = []\n",
    "    for sid, numqs in student_ids.iteritems():\n",
    "        sid_list.append(sid)\n",
    "\n",
    "    return np.random.choice(sid_list, sample_size, replace=False)\n",
    "    \n",
    "random_students = get_random_sample(student_ids, 50)"
   ]
  },
  {
   "cell_type": "code",
   "execution_count": 64,
   "metadata": {
    "collapsed": false
   },
   "outputs": [],
   "source": [
    "# Make a modified subset of the KDD Cup data file that has data from our random sample of students.\n",
    "# This is tailored for the KDD Cup data; we will have to modify this when using other data sources.\n",
    "# The CSV file is nearly identical to input file, with two changes:\n",
    "# 1. Some questions are assigned multiple concepts; we split these into one row per concept\n",
    "# 2. We only keep data from a random sample of students\n",
    "\n",
    "infile_path = \"/Users/qandeeltariq/Desktop/kddcup_challenge/bridge_to_algebra_2008_2009_train.txt\"\n",
    "outfile_path = \"/Users/qandeeltariq/Desktop/kddcup_challenge/bridge_to_algebra_2008_2009_train_rand.txt\"\n",
    "student_ids = dict()\n",
    "with open(infile_path,'r') as infile, open(outfile_path, 'w') as outfile:\n",
    "    csvreader = csv.reader(infile, dialect=\"excel-tab\")\n",
    "    csvwriter = csv.writer(outfile, dialect = \"excel-tab\")\n",
    "    for row in csvreader:\n",
    "        studentid = row[1]\n",
    "        if studentid in random_students:\n",
    "            # Write one row per concept in 'kc_ktracedskills' column 19\n",
    "            concepts = row[19].split('~~')\n",
    "            opportunities = row[20].split('~~')\n",
    "            for c, o in zip(concepts, opportunities):\n",
    "                temprow = row\n",
    "                temprow[19] = c\n",
    "                temprow[20] = o\n",
    "                csvwriter.writerow(temprow)"
   ]
  },
  {
   "cell_type": "code",
   "execution_count": 65,
   "metadata": {
    "collapsed": false
   },
   "outputs": [],
   "source": [
    "# Subset data to ensure we have enough data per concept\n",
    "# For each concept, find all students who answer qs on that concept, drop students who answer very few questions,\n",
    "# Count remaining students, if remaining students are very few, drop that concept\n",
    "\n",
    "def threshold_data(rawdata, min_answer_count, min_student_count):\n",
    "    # Read the CSV file into a pandas dataframe. This allows us to parse the date column and sort by date, \n",
    "    # which is important for ensuring that the questions are in order.\n",
    "    # We then split the data into one pandas dataframe per student using the pandas groupby function\n",
    "    kdd_col_names = ['row','student_id','problem_hierarchy', 'problem_name', 'problem_view','step_name','step_start_time','first_transaction_time','correct_transaction_time','step_end_time', 'step_duration','correct_step_duration', 'error_step_duration','correct_first_attempt', 'incorrects', 'hints', 'corrects', 'kc_subskills', 'opportunity_subskills', 'kc_ktracedskills', 'opportunity_ktracedskills']\n",
    "    pd_allstudents = pd.read_csv(outfile_path, sep='\\t', names=kdd_col_names, parse_dates=[6,7,8,9], infer_datetime_format=True)\n",
    "    pd_allstudents = pd_allstudents.sort_values('step_start_time') # Sort by datetime\n",
    "    \n",
    "    grouped_by_concept = pd_allstudents.groupby(['kc_ktracedskills'])\n",
    "\n",
    "    concepts_to_keep = []\n",
    "    for name,group in grouped_by_concept:\n",
    "        qs_per_student = group['student_id'].value_counts()\n",
    "        \n",
    "        # Find students whose number of questions answered is below answer_threshold\n",
    "        to_keep = []\n",
    "        for k,v in qs_per_student.iteritems():\n",
    "            if v >= min_answer_count:\n",
    "                to_keep.append(k)\n",
    "\n",
    "        group = group[group.student_id.isin(to_keep)]\n",
    "        \n",
    "        if len(set(to_keep)) >= min_student_count:\n",
    "            concepts_to_keep.append(name)\n",
    "            \n",
    "    # Merge updated concepts\n",
    "    subset_df = None\n",
    "    first_time = True\n",
    "    running_sum = 0\n",
    "    for c in concepts_to_keep:\n",
    "        df = grouped_by_concept.get_group(c)\n",
    "        running_sum += df.shape[0]\n",
    "        if first_time:\n",
    "            subset_df = df\n",
    "            first_time = False\n",
    "            continue\n",
    "        subset_df = pd.concat([subset_df, df])\n",
    "    return subset_df"
   ]
  },
  {
   "cell_type": "code",
   "execution_count": 72,
   "metadata": {
    "collapsed": false
   },
   "outputs": [],
   "source": [
    "cleaned_data = threshold_data(outfile_path, 15, 25)\n",
    "\n",
    "cleaned_data.to_csv('./cleaned_data.csv', index=False)\n",
    "\n",
    "# Split data into multiple dataframes, one per student.\n",
    "# Each student's dataframe contains all the questions they answered for all concepts.\n",
    "grouped_by_sid = cleaned_data.groupby(['student_id'])"
   ]
  },
  {
   "cell_type": "code",
   "execution_count": 67,
   "metadata": {
    "collapsed": false
   },
   "outputs": [],
   "source": [
    "# Since each student's dataframe contains questions from all concepts, we use \n",
    "# pandas groupby again to create one dataframe per concept per student.\n",
    "# If there are k students and j concepts, we end up with k*j dataframes.\n",
    "# The kc_ktracedskills column contains the concept.\n",
    "\n",
    "concept_by_students = []\n",
    "for name,group in grouped_by_sid:\n",
    "    concept_by_students.append(group.groupby(['kc_ktracedskills']))"
   ]
  },
  {
   "cell_type": "code",
   "execution_count": 68,
   "metadata": {
    "collapsed": false
   },
   "outputs": [],
   "source": [
    "# Create a sequence of answers as 1's and 0's for each student and each concept\n",
    "# For each question (row in data), there are two columns of interest:\n",
    "# 1. corrects - This is 1 if the student got the answer correct on the first try, 0 otherwise\n",
    "# 2. incorrects - This is 0 if the student got the answer correct on the first try, otherwise it is >= 1\n",
    "#                 This implies that the student can attempt the same question multiple times and keep getting it wrong.\n",
    "# There are two ways of turning this data into a sequence of corrects (1's) and incorrects (0's).\n",
    "# 1. We only keep track of their first answer and disregard subsequent attempts\n",
    "# 2. We count all incorrect attempts as 0's\n",
    "# If we set first_attempt_only = True in this function, we use method 1 to create the sequence of answers.\n",
    "# If it's false, we use method 2.\n",
    "\n",
    "def create_student_answer_sequences(concept_by_students, first_attempt_only=True):\n",
    "    list_alldata = []\n",
    "\n",
    "    for student in concept_by_students:\n",
    "        concepts = {}\n",
    "        for name,group in student:\n",
    "            answers = []\n",
    "            for index,row in group.iterrows():\n",
    "                if first_attempt_only == False:\n",
    "                    num_attempts = int(row['incorrects']) + int(row['corrects'])\n",
    "                    corrects = int(row['corrects'])\n",
    "                    temp_ans = [0 for i in range(num_attempts - corrects)] + [1 for i in range(corrects)]\n",
    "                else:\n",
    "                    temp_ans = [row['correct_first_attempt']]\n",
    "                if name in concepts:\n",
    "                    concepts[name] += temp_ans\n",
    "                else:\n",
    "                    concepts[name] = temp_ans\n",
    "        list_alldata.append(concepts)\n",
    "\n",
    "    return list_alldata\n",
    "\n",
    "list_alldata = create_student_answer_sequences(concept_by_students)"
   ]
  },
  {
   "cell_type": "code",
   "execution_count": 69,
   "metadata": {
    "collapsed": false
   },
   "outputs": [],
   "source": [
    "# Combine sequences of ansewrs as 1's and 0's by concept, where all students'\n",
    "# answers are in a list of lists\n",
    "\n",
    "from collections import defaultdict\n",
    "final_dict = defaultdict(list)\n",
    "for student_answers in list_alldata:\n",
    "    for concept, sequence in student_answers.iteritems():\n",
    "        # Clean concept names so matlab can read them\n",
    "        new_concept = concept.replace(' ', '_')\n",
    "        new_concept = new_concept.lower()\n",
    "        new_concept = \"\".join([ c if c.isalnum() else \"_\" for c in new_concept ])        \n",
    "        final_dict[new_concept].append(sequence)"
   ]
  },
  {
   "cell_type": "code",
   "execution_count": 70,
   "metadata": {
    "collapsed": false
   },
   "outputs": [],
   "source": [
    "# Format the data so matlab can read it in as a cell array\n",
    "final_dict_np = {}\n",
    "for k,v in final_dict.iteritems():\n",
    "    obj_arr = np.zeros((len(v)), dtype=np.object)\n",
    "    for seq_i in range(len(v)):\n",
    "        obj_arr[seq_i] = v[seq_i]\n",
    "    final_dict_np[k] = obj_arr\n",
    "sio.savemat('../matlab/final_dict.mat', final_dict_np)"
   ]
  }
 ],
 "metadata": {
  "kernelspec": {
   "display_name": "Python 2",
   "language": "python",
   "name": "python2"
  },
  "language_info": {
   "codemirror_mode": {
    "name": "ipython",
    "version": 2
   },
   "file_extension": ".py",
   "mimetype": "text/x-python",
   "name": "python",
   "nbconvert_exporter": "python",
   "pygments_lexer": "ipython2",
   "version": "2.7.12"
  }
 },
 "nbformat": 4,
 "nbformat_minor": 1
}
