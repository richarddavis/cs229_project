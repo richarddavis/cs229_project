{
 "cells": [
  {
   "cell_type": "markdown",
   "metadata": {},
   "source": [
    "## Steps for Format Data\n",
    "\n",
    "1. Split data on SID\n",
    "1. For each student, order questions by time\n",
    "1. For each student, split questions by concept\n",
    "1. Convert into a sequence of 1's and 0's\n",
    "1. Combine all concept sequences for all sequences\n",
    "\n"
   ]
  },
  {
   "cell_type": "code",
   "execution_count": 1,
   "metadata": {
    "collapsed": false
   },
   "outputs": [],
   "source": [
    "import pandas as pd\n",
    "import numpy as np\n",
    "import csv\n",
    "import scipy.io as sio"
   ]
  },
  {
   "cell_type": "code",
   "execution_count": 2,
   "metadata": {
    "collapsed": false
   },
   "outputs": [],
   "source": [
    "# Some rows of KDD data contain multiple concepts. Split these into multiple rows, one per concept.\n",
    "# Additionally, remove unlabeled rows (rows with no labeled concept).\n",
    "\n",
    "infile_path = \"/Volumes/Slim2TB/classes/cs229/project/data/KDD Cup/kddcup_challenge/bridge_to_algebra_2008_2009_train.txt\"\n",
    "outfile_path = \"/Volumes/Slim2TB/classes/cs229/project/data/KDD Cup/kddcup_challenge/bridge_to_algebra_2008_2009_train_clean.txt\"\n",
    "\n",
    "with open(infile_path,'r') as infile, open(outfile_path, 'w') as outfile:\n",
    "    csvreader = csv.reader(infile, dialect=\"excel-tab\")\n",
    "    csvwriter = csv.writer(outfile, dialect = \"excel-tab\")\n",
    "    for row in csvreader:\n",
    "        if not row[19]:\n",
    "            continue\n",
    "        # Write one row per concept in 'kc_ktracedskills' column 19\n",
    "        concepts = row[19].split('~~')\n",
    "        opportunities = row[20].split('~~')\n",
    "        for c, o in zip(concepts, opportunities):\n",
    "            temprow = row\n",
    "            temprow[19] = c\n",
    "            temprow[20] = o\n",
    "            csvwriter.writerow(temprow)"
   ]
  },
  {
   "cell_type": "code",
   "execution_count": 3,
   "metadata": {
    "collapsed": false
   },
   "outputs": [],
   "source": [
    "# Create a Dictionary Linking Student ID to Number of Questions and Concept ID to Number of Questions\n",
    "\n",
    "def get_kdd_info(file_path):\n",
    "    info = dict()\n",
    "    student_count = dict()\n",
    "    concept_count = dict()\n",
    "    with open(file_path,'r') as data_file:\n",
    "        csvreader = csv.reader(data_file, dialect=\"excel-tab\")\n",
    "        for row in csvreader:\n",
    "            studentid = row[1]\n",
    "            conceptid = row[19]\n",
    "            if studentid not in student_count:\n",
    "                student_count[studentid] = 1\n",
    "            else:\n",
    "                student_count[studentid] += 1\n",
    "            if conceptid not in concept_count:\n",
    "                concept_count[conceptid] = 1\n",
    "            else:\n",
    "                concept_count[conceptid] += 1\n",
    "    info['student_count'] = student_count\n",
    "    info['concept_count'] = concept_count\n",
    "    return info\n",
    "\n",
    "#file_path = \"/Users/qandeeltariq/Desktop/kddcup_challenge/bridge_to_algebra_2008_2009_train.txt\"\n",
    "file_path = \"/Volumes/Slim2TB/classes/cs229/project/data/KDD Cup/kddcup_challenge/bridge_to_algebra_2008_2009_train_clean.txt\"\n",
    "\n",
    "kdd_info = get_kdd_info(file_path)\n",
    "print kdd_info['concept_count']\n",
    "print kdd_info['student_count']"
   ]
  },
  {
   "cell_type": "code",
   "execution_count": 6,
   "metadata": {
    "collapsed": false
   },
   "outputs": [
    {
     "name": "stdout",
     "output_type": "stream",
     "text": [
      "In the cleaned data there are 808 concepts and 5986 students.\n"
     ]
    }
   ],
   "source": [
    "print \"In the cleaned data there are %d concepts and %d students.\" % (len(kdd_info['concept_count']), len(kdd_info['student_count']))"
   ]
  },
  {
   "cell_type": "code",
   "execution_count": 6,
   "metadata": {
    "collapsed": false
   },
   "outputs": [],
   "source": [
    "# Subsetting the data to 50 random students\n",
    "def get_random_sample(kdd_info, sample_size):\n",
    "    sid_list = []\n",
    "    for sid, numqs in kdd_info['student_count'].iteritems():\n",
    "        sid_list.append(sid)\n",
    "\n",
    "    return np.random.choice(sid_list, sample_size, replace=False)\n",
    "    \n",
    "#random_students = get_random_sample(student_ids, 50)"
   ]
  },
  {
   "cell_type": "code",
   "execution_count": 7,
   "metadata": {
    "collapsed": false
   },
   "outputs": [],
   "source": [
    "def get_top_n_concepts(concept_dict, n, clean=True, top=True):\n",
    "    c = concept_dict\n",
    "    if top:\n",
    "        s = sorted(c, key=c.get, reverse=True)\n",
    "    else:\n",
    "        s = sorted(c, key=c.get, reverse=False)\n",
    "    #s = sorted(c.items(), key=lambda x:x[1], reverse=True)\n",
    "    top_items = []\n",
    "    for entry in s:\n",
    "        if clean:\n",
    "            if 'enter' in entry.lower() or not entry:\n",
    "                continue\n",
    "        top_items.append(entry)\n",
    "        if len(top_items) >= n:\n",
    "            break\n",
    "    return top_items\n",
    "    \n",
    "n_concepts = get_top_n_concepts(kdd_info['concept_count'], 100, clean=False, top=True)"
   ]
  },
  {
   "cell_type": "code",
   "execution_count": 9,
   "metadata": {
    "collapsed": false
   },
   "outputs": [
    {
     "data": {
      "text/plain": [
       "array(['Identify number as common multiple-1',\n",
       "       'Identify number as common factor-1',\n",
       "       'Compare Options - operation-1',\n",
       "       'Identify percent change as increase or decrease-1',\n",
       "       'Identify common denominator-1',\n",
       "       'Enter smaller initial in diagram -- given-1',\n",
       "       'Identify no more factors-1', 'Enter items numerator-1',\n",
       "       'Identify proper from option 2-1',\n",
       "       'Calculate difference digit -- borrow in-1'], \n",
       "      dtype='|S60')"
      ]
     },
     "execution_count": 9,
     "metadata": {},
     "output_type": "execute_result"
    }
   ],
   "source": [
    "def choose_random_concepts(concept_list, sample_size):\n",
    "    return np.random.choice(concept_list, sample_size, replace=False)\n",
    "\n",
    "random_concepts = choose_random_concepts(n_concepts, 10)"
   ]
  },
  {
   "cell_type": "code",
   "execution_count": 10,
   "metadata": {
    "collapsed": false
   },
   "outputs": [
    {
     "name": "stdout",
     "output_type": "stream",
     "text": [
      "12536294\n",
      "993661\n"
     ]
    }
   ],
   "source": [
    "# Make a modified subset of the KDD Cup data file that has data from our random sample of students.\n",
    "# This is tailored for the KDD Cup data; we will have to modify this when using other data sources.\n",
    "# The CSV file is nearly identical to input file, with two changes:\n",
    "# 1. Some questions are assigned multiple concepts; we split these into one row per concept\n",
    "# 2. We only keep data from a random sample of students\n",
    "\n",
    "infile_path = \"/Volumes/Slim2TB/classes/cs229/project/data/KDD Cup/kddcup_challenge/bridge_to_algebra_2008_2009_train_clean.txt\"\n",
    "subset_path = \"/Volumes/Slim2TB/classes/cs229/project/data/KDD Cup/kddcup_challenge/bridge_to_algebra_2008_2009_train_nConcepts.txt\"\n",
    "\n",
    "total_rows = 0\n",
    "written_rows = 0\n",
    "with open(infile_path,'r') as infile, open(subset_path, 'w') as outfile:\n",
    "    csvreader = csv.reader(infile, dialect=\"excel-tab\")\n",
    "    csvwriter = csv.writer(outfile, dialect = \"excel-tab\")\n",
    "    for row in csvreader:\n",
    "        concept_id = row[19]\n",
    "        total_rows += 1\n",
    "        if concept_id not in random_concepts:\n",
    "        #if concept_id not in top_concepts:\n",
    "            continue\n",
    "        csvwriter.writerow(row)\n",
    "        written_rows += 1\n",
    "        \n",
    "print \"Wrote %d rows out of %d total rows.\" % (written_rows, total_rows)\n",
    "\n",
    "n_concept_info = get_kdd_info(subset_path)\n",
    "print \"In the subsetted data there are %d concepts and %d students.\" % (len(n_concept_info['concept_count']), len(n_concept_info['student_count']))"
   ]
  },
  {
   "cell_type": "code",
   "execution_count": 11,
   "metadata": {
    "collapsed": false
   },
   "outputs": [
    {
     "name": "stdout",
     "output_type": "stream",
     "text": [
      "In the subsetted data there are 10 concepts and 4938 students.\n"
     ]
    }
   ],
   "source": [
    "n_concepts_path = \"/Volumes/Slim2TB/classes/cs229/project/data/KDD Cup/kddcup_challenge/bridge_to_algebra_2008_2009_train_nConcepts.txt\"\n"
   ]
  },
  {
   "cell_type": "code",
   "execution_count": 23,
   "metadata": {
    "collapsed": false
   },
   "outputs": [
    {
     "name": "stdout",
     "output_type": "stream",
     "text": [
      "[3582, 3472, 3189, 3701, 831, 4188, 777, 480, 268, 1996, 2929, 1427, 2765, 2090, 4009, 2308, 16, 835, 3029, 3941, 3600, 1709, 2767, 2750, 1410, 3432, 3348, 3624, 3466, 797, 3745, 2762, 3973, 350, 3057, 715, 386, 888, 3885, 2023, 1322, 3229, 322, 2648, 134, 3719, 4225, 1899, 522, 2350, 3530, 862, 1771, 2943, 3815, 179, 1745, 2261, 3129, 2383, 1067, 3835, 520, 3017, 2949, 3426, 2544, 2570, 1591, 1049, 2921, 2626, 2661, 4219, 2487, 2985, 1621, 2144, 2102, 2721, 985, 1072, 923, 1210, 2452, 1845, 289, 1636, 2477, 3015, 504, 4207, 2885, 3494, 318, 2470, 647, 2788, 392, 976, 3489, 675, 468, 844, 388, 3286, 1154, 1867, 1311, 3979, 2930, 978, 3215, 730, 2540, 860, 832, 2438, 2701, 1081, 2209, 1875, 3797, 903, 3382, 2129, 116, 206, 3086, 3070, 2031, 4190, 1859, 3350, 1930, 2651, 4112, 4052, 4124, 191, 1103, 3512, 1011, 1588, 1425, 2226, 764, 1085, 2691, 3966, 1816, 453, 853, 2432, 1519, 1607, 3992, 1043, 3415, 12, 2871, 2374, 788, 1388, 2685, 3939, 1334, 2703, 4012, 611, 3101, 3270, 2490, 3145, 2756, 2073, 2253, 3020, 39, 1115, 1889, 3193, 3356, 4122, 3147, 1985, 2629, 399, 818, 1047, 3959, 4141, 2384, 1254, 3191, 3706, 1036, 2993, 4131, 1868, 2243, 812, 2907, 438, 874, 1617, 2193, 1491, 1658, 3543, 478, 1281, 2021, 1767, 2527, 3553, 1299, 1389, 3204, 3786, 2524, 4210, 353, 1559, 1193, 2525, 4157, 2592, 3454, 321, 825, 1126, 1625, 2445, 3364, 3392, 3502, 3363, 1804, 2210, 2463, 2778, 3303, 54, 899, 3023, 367, 1947, 1987, 2241, 3660, 1278, 2414, 131, 2435, 909, 1913, 854, 439, 2229, 2, 2100, 3441, 3951, 3316, 2810, 2823, 1513, 208, 1556, 3237, 394, 1391, 1051, 3892, 1863, 2214, 2106, 2755, 3840, 778, 1854, 3025, 4070, 3383, 3670, 794, 2320, 3151, 1727, 1811, 2981, 3649, 3813, 1813, 1828, 2891, 140, 2395, 650, 2926, 4159, 22, 652, 3305, 707, 2513, 3311, 3644, 937, 1632, 3011, 3861, 1060, 2684, 1385, 3205, 3619, 152, 181, 3638, 1340, 1929, 3578, 4025, 2690, 2060, 732, 2983, 2828, 71, 2232, 3135, 960, 3293, 2436, 3174, 100, 1992, 2512, 418, 3163, 3908, 64, 2829, 4096, 4121, 2946, 3314, 705, 2777, 1836, 2167, 1794, 741, 961, 2587, 3917, 1570, 1851, 2585, 387, 437, 948, 1869, 2749, 2938, 1900, 2324, 87, 821, 2220, 2789, 617, 2211, 4014, 80, 1230, 334, 1921, 2370, 3257, 217, 2523, 4059, 4228, 752, 3315, 4044, 2244, 376, 1731, 3299, 2268, 3225, 3347, 1838, 3491, 1945, 3675, 3549, 352, 987, 1685, 2612, 3807, 4037, 1892, 2631, 127, 1736, 3803, 927, 2853, 4040, 574, 3409, 3743, 3881, 1062, 2469, 612, 871, 820, 1478, 1968, 323, 331, 1640, 2362, 3321, 166, 231, 1408, 2567, 4030, 1237, 1667, 3587, 283, 808, 2973, 3888, 4162, 530, 2757, 2883, 3616, 3942, 2360, 3583, 598, 609, 2982, 3697, 1674, 1928, 2880, 3842, 347, 158, 3062, 1611, 1197, 3778, 2779, 4172, 2455, 1380, 2321, 3648, 1682, 2410, 3532, 882, 999, 1707, 3369, 1842, 2689, 2901, 3460, 3707, 4015, 235, 2620, 2632, 2743, 1096, 1351, 2954, 4205, 2671, 2417, 4216, 911, 1613, 3635, 4123, 2050]\n"
     ]
    }
   ],
   "source": [
    "# Write data to two matrices\n",
    "\n",
    "def convert_to_matrices(csvfile, min_seq_length):\n",
    "    kdd_col_names = ['row','student_id','problem_hierarchy', 'problem_name', 'problem_view','step_name','step_start_time','first_transaction_time','correct_transaction_time','step_end_time', 'step_duration','correct_step_duration', 'error_step_duration','correct_first_attempt', 'incorrects', 'hints', 'corrects', 'kc_subskills', 'opportunity_subskills', 'kc_ktracedskills', 'opportunity_ktracedskills']\n",
    "    pd_allstudents = pd.read_csv(csvfile, sep='\\t', names=kdd_col_names, parse_dates=[6,7,8,9], infer_datetime_format=True)\n",
    "    pd_allstudents = pd_allstudents.sort_values('step_start_time') # Sort by datetime\n",
    "    \n",
    "    grouped_by_student = pd_allstudents.groupby(['student_id'])\n",
    "    \n",
    "    max_seq_len = 0\n",
    "    for name,group in grouped_by_student:\n",
    "        # name is student_id, group is that student's data\n",
    "        if group.shape[0] > max_seq_len:\n",
    "            max_seq_len = group.shape[0]\n",
    "    \n",
    "    concept_to_id = {}\n",
    "    id_to_concept = {}\n",
    "    concepts = set(pd_allstudents['kc_ktracedskills'])\n",
    "    i = 1\n",
    "    for c in concepts:\n",
    "        concept_to_id[c] = i\n",
    "        id_to_concept[i] = c\n",
    "        i += 1\n",
    "    #print concept_to_id\n",
    "    #print id_to_concept\n",
    "    \n",
    "    student_to_id = {}\n",
    "    id_to_student = {}\n",
    "    students = set(pd_allstudents['student_id'])\n",
    "    i = 0\n",
    "    for s in students:\n",
    "        student_to_id[s] = i\n",
    "        id_to_student[i] = s\n",
    "        i += 1    \n",
    "    #print student_to_id\n",
    "    #print id_to_student\n",
    "    \n",
    "    answer_matrix = np.zeros([len(grouped_by_student), max_seq_len])\n",
    "    concept_matrix = np.zeros([len(grouped_by_student), max_seq_len])   \n",
    "    \n",
    "    for name, group in grouped_by_student:\n",
    "        \n",
    "        # Drop concepts where student answered fewer than min_seq_length questions\n",
    "        cs_per_student = group['kc_ktracedskills'].value_counts()\n",
    "        \n",
    "        # Find students whose number of questions answered is below answer_threshold\n",
    "        to_keep = []\n",
    "        for k,v in cs_per_student.iteritems():\n",
    "            if v >= min_seq_length:\n",
    "                to_keep.append(k)\n",
    "\n",
    "        group = group[group.kc_ktracedskills.isin(to_keep)]\n",
    "        \n",
    "        outrow = student_to_id[name]\n",
    "        i = 0\n",
    "        for index, row in group.iterrows():\n",
    "            concept = row['kc_ktracedskills']\n",
    "            concept_id = concept_to_id[concept]\n",
    "            answer = row['correct_first_attempt'] + 1\n",
    "            answer_matrix[outrow, i] = answer\n",
    "            concept_matrix[outrow, i] = concept_id\n",
    "            i += 1\n",
    "            \n",
    "    # Drop rows of all zeros before writing to .mat file\n",
    "    answer_matrix = answer_matrix[~np.all(answer_matrix == 0, axis=1)]\n",
    "    concept_matrix = concept_matrix[~np.all(concept_matrix == 0, axis=1)]    \n",
    "    \n",
    "    # Write the 500 rows with the most data\n",
    "    concept_indicator = concept_matrix > 0\n",
    "    concept_count = np.sum(concept_matrix > 0, axis=1)\n",
    "    row_to_count = {}\n",
    "    for i in range(len(concept_count)):\n",
    "        row_to_count[i] = concept_count[i]\n",
    "    #sorted_rows = sorted(row_to_count.items(), key=lambda x:x[1])\n",
    "    sorted_rows = sorted(row_to_count, key=row_to_count.get, reverse=True)\n",
    "    rows_to_keep = sorted_rows[:500]\n",
    "\n",
    "    answer_matrix = answer_matrix[rows_to_keep, :]\n",
    "    concept_matrix = concept_matrix[rows_to_keep, :]    \n",
    "    \n",
    "    return [answer_matrix, concept_matrix, concept_to_id, id_to_concept, student_to_id, id_to_student]\n",
    "    \n",
    "n_concepts_path = \"/Volumes/Slim2TB/classes/cs229/project/data/KDD Cup/kddcup_challenge/bridge_to_algebra_2008_2009_train_nConcepts.txt\"\n",
    "X, C, c_id, id_c, s_id, id_s = convert_to_matrices(n_concepts_path, 10)"
   ]
  },
  {
   "cell_type": "code",
   "execution_count": 25,
   "metadata": {
    "collapsed": false
   },
   "outputs": [
    {
     "name": "stdout",
     "output_type": "stream",
     "text": [
      "(500, 1368)\n",
      "(500, 1368)\n",
      "10\n",
      "10\n",
      "4938\n",
      "4938\n",
      "<type 'numpy.ndarray'>\n"
     ]
    }
   ],
   "source": [
    "print X.shape\n",
    "print C.shape\n",
    "print len(c_id)\n",
    "print len(id_c)\n",
    "print len(s_id)\n",
    "print len(id_s)\n",
    "print type(X)\n",
    "sio.savemat('KDD_sample.mat', {'KDD_sample_X':X, 'KDD_sample_C':C})"
   ]
  },
  {
   "cell_type": "code",
   "execution_count": 17,
   "metadata": {
    "collapsed": false
   },
   "outputs": [
    {
     "name": "stdout",
     "output_type": "stream",
     "text": [
      "(4235, 1368)\n",
      "(4235, 1368)\n",
      "10\n",
      "10\n",
      "4938\n",
      "4938\n",
      "<type 'numpy.ndarray'>\n"
     ]
    }
   ],
   "source": [
    "print X.shape\n",
    "print C.shape\n",
    "print len(c_id)\n",
    "print len(id_c)\n",
    "print len(s_id)\n",
    "print len(id_s)\n",
    "print type(X)\n",
    "sio.savemat('KDD.mat', {'KDD_X':X, 'KDD_C':C})"
   ]
  },
  {
   "cell_type": "code",
   "execution_count": 22,
   "metadata": {
    "collapsed": false
   },
   "outputs": [],
   "source": [
    "# Combine sequences of ansewrs as 1's and 0's by concept, where all students'\n",
    "# answers are in a list of lists\n",
    "\n",
    "from collections import defaultdict\n",
    "final_dict = defaultdict(dict)\n",
    "for student, answers in list_alldata.iteritems():\n",
    "    for concept, sequence in answers.iteritems():\n",
    "        # Clean concept names so matlab can read them\n",
    "        new_concept = concept.replace(' ', '_')\n",
    "        new_concept = new_concept.lower()\n",
    "        new_concept = \"\".join([ c if c.isalnum() else \"_\" for c in new_concept ])        \n",
    "        final_dict[new_concept][student] = sequence\n",
    "        \n",
    "#sio.savemat('../matlab/final_dict.mat', final_dict)"
   ]
  }
 ],
 "metadata": {
  "kernelspec": {
   "display_name": "Python 2",
   "language": "python",
   "name": "python2"
  },
  "language_info": {
   "codemirror_mode": {
    "name": "ipython",
    "version": 2
   },
   "file_extension": ".py",
   "mimetype": "text/x-python",
   "name": "python",
   "nbconvert_exporter": "python",
   "pygments_lexer": "ipython2",
   "version": "2.7.10"
  }
 },
 "nbformat": 4,
 "nbformat_minor": 1
}
