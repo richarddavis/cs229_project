{
 "cells": [
  {
   "cell_type": "markdown",
   "metadata": {},
   "source": [
    "## Steps for Format Data\n",
    "\n",
    "1. Split data on SID\n",
    "1. For each student, order questions by time\n",
    "1. For each student, split questions by concept\n",
    "1. Convert into a sequence of 1's and 0's\n",
    "1. Combine all concept sequences for all sequences\n",
    "\n"
   ]
  },
  {
   "cell_type": "code",
   "execution_count": 33,
   "metadata": {
    "collapsed": false
   },
   "outputs": [],
   "source": [
    "import pandas as pd\n",
    "import numpy as np\n",
    "import csv\n",
    "import scipy.io as sio"
   ]
  },
  {
   "cell_type": "code",
   "execution_count": 70,
   "metadata": {
    "collapsed": false
   },
   "outputs": [],
   "source": [
    "# Some rows of KDD data contain multiple concepts. Split these into multiple rows, one per concept.\n",
    "# Additionally, remove unlabeled rows (rows with no labeled concept).\n",
    "\n",
    "infile_path = \"/Volumes/Slim2TB/classes/cs229/project/data/KDD Cup/kddcup_challenge/bridge_to_algebra_2008_2009_train.txt\"\n",
    "outfile_path = \"/Volumes/Slim2TB/classes/cs229/project/data/KDD Cup/kddcup_challenge/bridge_to_algebra_2008_2009_train_clean.txt\"\n",
    "\n",
    "with open(infile_path,'r') as infile, open(outfile_path, 'w') as outfile:\n",
    "    csvreader = csv.reader(infile, dialect=\"excel-tab\")\n",
    "    csvwriter = csv.writer(outfile, dialect = \"excel-tab\")\n",
    "    for row in csvreader:\n",
    "        if not row[19]:\n",
    "            continue\n",
    "        # Write one row per concept in 'kc_ktracedskills' column 19\n",
    "        concepts = row[19].split('~~')\n",
    "        opportunities = row[20].split('~~')\n",
    "        for c, o in zip(concepts, opportunities):\n",
    "            temprow = row\n",
    "            temprow[19] = c\n",
    "            temprow[20] = o\n",
    "            csvwriter.writerow(temprow)"
   ]
  },
  {
   "cell_type": "code",
   "execution_count": 71,
   "metadata": {
    "collapsed": false
   },
   "outputs": [],
   "source": [
    "# Create a Dictionary Linking Student ID to Number of Questions and Concept ID to Number of Questions\n",
    "\n",
    "def get_kdd_info(file_path):\n",
    "    info = dict()\n",
    "    student_count = dict()\n",
    "    concept_count = dict()\n",
    "    with open(file_path,'r') as data_file:\n",
    "        csvreader = csv.reader(data_file, dialect=\"excel-tab\")\n",
    "        for row in csvreader:\n",
    "            studentid = row[1]\n",
    "            conceptid = row[19]\n",
    "            if studentid not in student_count:\n",
    "                student_count[studentid] = 1\n",
    "            else:\n",
    "                student_count[studentid] += 1\n",
    "            if conceptid not in concept_count:\n",
    "                concept_count[conceptid] = 1\n",
    "            else:\n",
    "                concept_count[conceptid] += 1\n",
    "    info['student_count'] = student_count\n",
    "    info['concept_count'] = concept_count\n",
    "    return info\n",
    "\n",
    "file_path = \"/Volumes/Slim2TB/classes/cs229/project/data/KDD Cup/kddcup_challenge/bridge_to_algebra_2008_2009_train_clean.txt\"\n",
    "\n",
    "kdd_info = get_kdd_info(file_path)\n",
    "#print kdd_info['concept_count']\n",
    "#print kdd_info['student_count']"
   ]
  },
  {
   "cell_type": "code",
   "execution_count": 6,
   "metadata": {
    "collapsed": false
   },
   "outputs": [],
   "source": [
    "# Subsetting the data to 50 random students\n",
    "def get_random_sample(kdd_info, sample_size):\n",
    "    sid_list = []\n",
    "    for sid, numqs in kdd_info['student_count'].iteritems():\n",
    "        sid_list.append(sid)\n",
    "\n",
    "    return np.random.choice(sid_list, sample_size, replace=False)\n",
    "    \n",
    "random_students = get_random_sample(student_ids, 50)"
   ]
  },
  {
   "cell_type": "code",
   "execution_count": 72,
   "metadata": {
    "collapsed": false
   },
   "outputs": [],
   "source": [
    "def get_top_n_concepts(concept_dict, n, clean=True):\n",
    "    c = concept_dict\n",
    "    s = sorted(c, key=c.get, reverse=True)\n",
    "    #s = sorted(c.items(), key=lambda x:x[1], reverse=True)\n",
    "    top_items = []\n",
    "    for entry in s:\n",
    "        if clean:\n",
    "            if 'enter' in entry.lower() or not entry:\n",
    "                continue\n",
    "        top_items.append(entry)\n",
    "        if len(top_items) >= n:\n",
    "            break\n",
    "    return top_items\n",
    "    \n",
    "top_concepts = get_top_n_concepts(kdd_info['concept_count'], 20)"
   ]
  },
  {
   "cell_type": "code",
   "execution_count": 74,
   "metadata": {
    "collapsed": false
   },
   "outputs": [
    {
     "name": "stdout",
     "output_type": "stream",
     "text": [
      "12536294\n",
      "4122077\n"
     ]
    }
   ],
   "source": [
    "# Make a modified subset of the KDD Cup data file that has data from our random sample of students.\n",
    "# This is tailored for the KDD Cup data; we will have to modify this when using other data sources.\n",
    "# The CSV file is nearly identical to input file, with two changes:\n",
    "# 1. Some questions are assigned multiple concepts; we split these into one row per concept\n",
    "# 2. We only keep data from a random sample of students\n",
    "\n",
    "infile_path = \"/Volumes/Slim2TB/classes/cs229/project/data/KDD Cup/kddcup_challenge/bridge_to_algebra_2008_2009_train_clean.txt\"\n",
    "outfile_path = \"/Volumes/Slim2TB/classes/cs229/project/data/KDD Cup/kddcup_challenge/bridge_to_algebra_2008_2009_train_topConcepts.txt\"\n",
    "\n",
    "total_rows = 0\n",
    "written_rows = 0\n",
    "with open(infile_path,'r') as infile, open(outfile_path, 'w') as outfile:\n",
    "    csvreader = csv.reader(infile, dialect=\"excel-tab\")\n",
    "    csvwriter = csv.writer(outfile, dialect = \"excel-tab\")\n",
    "    for row in csvreader:\n",
    "        concept_id = row[19]\n",
    "        total_rows += 1\n",
    "        if concept_id not in top_concepts:\n",
    "            continue\n",
    "        csvwriter.writerow(row)\n",
    "        written_rows += 1\n",
    "        \n",
    "print total_rows\n",
    "print written_rows"
   ]
  },
  {
   "cell_type": "code",
   "execution_count": 75,
   "metadata": {
    "collapsed": false
   },
   "outputs": [
    {
     "name": "stdout",
     "output_type": "stream",
     "text": [
      "20\n",
      "['Calculate with 2 digit numerator-1', 'Identify number of recipients-1', 'Calculate internal product-1', 'Calculate difference digit from 2 digits-1', 'Calculate difference digit -- no borrow-1', 'Identify number as common factor-1', 'Calculate sum digit from 2 digits-1', 'Rewrite fraction with common denominator-1', 'Identify number as common multiple-1', 'Calculate partial product -- carry out-1', 'Find Y, any form-1', 'Calculate internal difference-1', 'List consecutive multiples of a number-1', 'Identify number of items-1', 'Identify that a fraction can/cannot be simplified-1', 'Calculate sum digit -- no carry-1', 'Calculate partial product -- no carry-1', 'Calculate partial product -- carry in-1', 'Calculate partial product -- carry in and out-1', 'List factor of large number-1']\n",
      "['Calculate sum digit -- no carry-1', 'Identify number as common factor-1', 'Calculate partial product -- no carry-1', 'Calculate difference digit from 2 digits-1', 'List consecutive multiples of a number-1', 'Identify number as common multiple-1', 'Calculate internal product-1', 'Calculate with 2 digit numerator-1', 'List factor of large number-1', 'Find Y, any form-1', 'Calculate sum digit from 2 digits-1', 'Calculate difference digit -- no borrow-1', 'Calculate partial product -- carry in and out-1', 'Calculate internal difference-1', 'Identify number of items-1', 'Identify number of recipients-1', 'Calculate partial product -- carry out-1', 'Calculate partial product -- carry in-1', 'Rewrite fraction with common denominator-1', 'Identify that a fraction can/cannot be simplified-1']\n"
     ]
    }
   ],
   "source": [
    "top_concepts_path = \"/Volumes/Slim2TB/classes/cs229/project/data/KDD Cup/kddcup_challenge/bridge_to_algebra_2008_2009_train_topConcepts.txt\"\n",
    "top_concept_info = get_kdd_info(top_concepts_path)"
   ]
  },
  {
   "cell_type": "code",
   "execution_count": 9,
   "metadata": {
    "collapsed": false
   },
   "outputs": [],
   "source": [
    "# Subset data to ensure we have enough data per concept\n",
    "# For each concept, find all students who answer qs on that concept, drop students who answer very few questions,\n",
    "# Count remaining students, if remaining students are very few, drop that concept\n",
    "\n",
    "def threshold_data(rawdata, min_answer_count, min_student_count):\n",
    "    # Read the CSV file into a pandas dataframe. This allows us to parse the date column and sort by date, \n",
    "    # which is important for ensuring that the questions are in order.\n",
    "    # We then split the data into one pandas dataframe per student using the pandas groupby function\n",
    "    kdd_col_names = ['row','student_id','problem_hierarchy', 'problem_name', 'problem_view','step_name','step_start_time','first_transaction_time','correct_transaction_time','step_end_time', 'step_duration','correct_step_duration', 'error_step_duration','correct_first_attempt', 'incorrects', 'hints', 'corrects', 'kc_subskills', 'opportunity_subskills', 'kc_ktracedskills', 'opportunity_ktracedskills']\n",
    "    pd_allstudents = pd.read_csv(outfile_path, sep='\\t', names=kdd_col_names, parse_dates=[6,7,8,9], infer_datetime_format=True)\n",
    "    pd_allstudents = pd_allstudents.sort_values('step_start_time') # Sort by datetime\n",
    "    \n",
    "    grouped_by_concept = pd_allstudents.groupby(['kc_ktracedskills'])\n",
    "\n",
    "    concepts_to_keep = []\n",
    "    for name,group in grouped_by_concept:\n",
    "        qs_per_student = group['student_id'].value_counts()\n",
    "        \n",
    "        # Find students whose number of questions answered is below answer_threshold\n",
    "        to_keep = []\n",
    "        for k,v in qs_per_student.iteritems():\n",
    "            if v >= min_answer_count:\n",
    "                to_keep.append(k)\n",
    "\n",
    "        group = group[group.student_id.isin(to_keep)]\n",
    "        \n",
    "        if len(set(to_keep)) >= min_student_count:\n",
    "            concepts_to_keep.append(name)\n",
    "            \n",
    "    # Merge updated concepts\n",
    "    subset_df = None\n",
    "    first_time = True\n",
    "    running_sum = 0\n",
    "    for c in concepts_to_keep:\n",
    "        df = grouped_by_concept.get_group(c)\n",
    "        running_sum += df.shape[0]\n",
    "        if first_time:\n",
    "            subset_df = df\n",
    "            first_time = False\n",
    "            continue\n",
    "        subset_df = pd.concat([subset_df, df])\n",
    "    return subset_df"
   ]
  },
  {
   "cell_type": "code",
   "execution_count": 14,
   "metadata": {
    "collapsed": false
   },
   "outputs": [
    {
     "data": {
      "text/plain": [
       "43"
      ]
     },
     "execution_count": 14,
     "metadata": {},
     "output_type": "execute_result"
    }
   ],
   "source": [
    "outfile_path = \"/Volumes/Slim2TB/classes/cs229/project/data/KDD Cup/kddcup_challenge/bridge_to_algebra_2008_2009_train_clean.txt\"\n",
    "cleaned_data = threshold_data(outfile_path, 10, 20)\n",
    "\n",
    "cleaned_data.to_csv('./cleaned_data.csv', index=False)\n",
    "\n",
    "# Split data into multiple dataframes, one per student.\n",
    "# Each student's dataframe contains all the questions they answered for all concepts.\n",
    "grouped_by_sid = cleaned_data.groupby(['student_id'])"
   ]
  },
  {
   "cell_type": "code",
   "execution_count": 13,
   "metadata": {
    "collapsed": false
   },
   "outputs": [
    {
     "name": "stdout",
     "output_type": "stream",
     "text": [
      "43\n"
     ]
    }
   ],
   "source": [
    "# Since each student's dataframe contains questions from all concepts, we use \n",
    "# pandas groupby again to create one dataframe per concept per student.\n",
    "# If there are k students and j concepts, we end up with k*j dataframes.\n",
    "# The kc_ktracedskills column contains the concept.\n",
    "\n",
    "concept_by_students = {}\n",
    "for name,group in grouped_by_sid:\n",
    "    concept_by_students[name] = group.groupby(['kc_ktracedskills'])"
   ]
  },
  {
   "cell_type": "code",
   "execution_count": 18,
   "metadata": {
    "collapsed": false
   },
   "outputs": [],
   "source": [
    "# Create a sequence of answers as 1's and 0's for each student and each concept\n",
    "# For each question (row in data), there are two columns of interest:\n",
    "# 1. corrects - This is 1 if the student got the answer correct on the first try, 0 otherwise\n",
    "# 2. incorrects - This is 0 if the student got the answer correct on the first try, otherwise it is >= 1\n",
    "#                 This implies that the student can attempt the same question multiple times and keep getting it wrong.\n",
    "# There are two ways of turning this data into a sequence of corrects (1's) and incorrects (0's).\n",
    "# 1. We only keep track of their first answer and disregard subsequent attempts\n",
    "# 2. We count all incorrect attempts as 0's\n",
    "# If we set first_attempt_only = True in this function, we use method 1 to create the sequence of answers.\n",
    "# If it's false, we use method 2.\n",
    "\n",
    "def create_student_answer_sequences(concept_by_students, first_attempt_only=True):\n",
    "    list_alldata = {}\n",
    "\n",
    "    for student, concept in concept_by_students.iteritems():\n",
    "        concepts = {}\n",
    "        for name,group in concept:\n",
    "            # We are looking at concept with name where group is df containing all questions\n",
    "            # student answered on that concept.\n",
    "\n",
    "            answers = []\n",
    "            for index, row in group.iterrows():\n",
    "                if first_attempt_only == False:\n",
    "                    num_attempts = int(row['incorrects']) + int(row['corrects'])\n",
    "                    corrects = int(row['corrects'])\n",
    "                    temp_ans = [0 for i in range(num_attempts - corrects)] + [1 for i in range(corrects)]\n",
    "                else:\n",
    "                    temp_ans = [row['correct_first_attempt']]\n",
    "                if name in concepts:\n",
    "                    concepts[name] += temp_ans\n",
    "                else:\n",
    "                    concepts[name] = temp_ans\n",
    "        list_alldata[student] = concepts\n",
    "\n",
    "    return list_alldata\n",
    "\n",
    "list_alldata = create_student_answer_sequences(concept_by_students)"
   ]
  },
  {
   "cell_type": "code",
   "execution_count": 22,
   "metadata": {
    "collapsed": false
   },
   "outputs": [],
   "source": [
    "# Combine sequences of ansewrs as 1's and 0's by concept, where all students'\n",
    "# answers are in a list of lists\n",
    "\n",
    "from collections import defaultdict\n",
    "final_dict = defaultdict(dict)\n",
    "for student, answers in list_alldata.iteritems():\n",
    "    for concept, sequence in answers.iteritems():\n",
    "        # Clean concept names so matlab can read them\n",
    "        new_concept = concept.replace(' ', '_')\n",
    "        new_concept = new_concept.lower()\n",
    "        new_concept = \"\".join([ c if c.isalnum() else \"_\" for c in new_concept ])        \n",
    "        final_dict[new_concept][student] = sequence\n",
    "        \n",
    "sio.savemat('../matlab/final_dict.mat', final_dict)"
   ]
  },
  {
   "cell_type": "code",
   "execution_count": 70,
   "metadata": {
    "collapsed": false
   },
   "outputs": [],
   "source": [
    "# Format the data so matlab can read it in as a cell array\n",
    "final_dict_np = {}\n",
    "for k,v in final_dict.iteritems():\n",
    "    obj_arr = np.zeros((len(v)), dtype=np.object)\n",
    "    for seq_i in range(len(v)):\n",
    "        obj_arr[seq_i] = v[seq_i]\n",
    "    final_dict_np[k] = obj_arr\n",
    "sio.savemat('../matlab/final_dict.mat', final_dict_np)"
   ]
  }
 ],
 "metadata": {
  "kernelspec": {
   "display_name": "Python 2",
   "language": "python",
   "name": "python2"
  },
  "language_info": {
   "codemirror_mode": {
    "name": "ipython",
    "version": 2
   },
   "file_extension": ".py",
   "mimetype": "text/x-python",
   "name": "python",
   "nbconvert_exporter": "python",
   "pygments_lexer": "ipython2",
   "version": "2.7.10"
  }
 },
 "nbformat": 4,
 "nbformat_minor": 1
}
